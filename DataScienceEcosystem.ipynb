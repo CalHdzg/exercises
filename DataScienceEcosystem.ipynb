{
  "cells": [
    {
      "cell_type": "markdown",
      "metadata": {
        "id": "1u2QdwRrEaQ_"
      },
      "source": [
        "<center>\n",
        "    <img src=\"https://cf-courses-data.s3.us.cloud-object-storage.appdomain.cloud/IBMDeveloperSkillsNetwork-DS0105EN-SkillsNetwork/labs/Module2/images/SN_web_lightmode.png\" width=\"300\" alt=\"cognitiveclass.ai logo\">\n",
        "</center>\n"
      ]
    },
    {
      "cell_type": "markdown",
      "metadata": {
        "id": "8B1RHeWOEaRB"
      },
      "source": [
        "#### Add your code below following the instructions given in the course\n"
      ]
    },
    {
      "cell_type": "markdown",
      "source": [
        "# Data Science Tools and Ecosystem"
      ],
      "metadata": {
        "id": "ZzSvFAvYE_zJ"
      }
    },
    {
      "cell_type": "markdown",
      "source": [
        "## Author\n",
        "Carlos Alejandro Hernandez Gomez"
      ],
      "metadata": {
        "id": "koMKRklqYWSn"
      }
    },
    {
      "cell_type": "markdown",
      "source": [
        "In this notebook, Data Science Tools and Ecosystem are summarized."
      ],
      "metadata": {
        "id": "igdnxys5FprP"
      }
    },
    {
      "cell_type": "markdown",
      "source": [
        "**Objectives:**\n",
        "*  List some popular languages for Data Science.\n",
        "*  List some commonly used libraries used by Data Scientists.\n",
        "*  List some Data Science tools.\n",
        "*  Do a few examples of ecaluating arithmetic expressions in Python."
      ],
      "metadata": {
        "id": "sycjG-hIXbqM"
      }
    },
    {
      "cell_type": "markdown",
      "source": [
        "Some of the popular languages that Data Scientists use are:\n",
        "1.  SQL\n",
        "2.  Python\n",
        "3.  R"
      ],
      "metadata": {
        "id": "CyrBc9bFGAtN"
      }
    },
    {
      "cell_type": "markdown",
      "source": [
        "Some of the commonly used libraries used by Data Scientists include:\n",
        "1.   Pandas\n",
        "2.   NumPy\n",
        "3.   Matplotlib\n",
        "4.   Scikit-Learn\n",
        "5.   TensorFlow\n",
        "6.   PyTorch\n",
        "\n"
      ],
      "metadata": {
        "id": "m-DYYtd4GXvN"
      }
    },
    {
      "cell_type": "markdown",
      "source": [
        "| Data Science Tools |\n",
        "| ---------|\n",
        "| Jupyter Notebooks |\n",
        "| RStudio |\n",
        "| Apache Zeppelin |"
      ],
      "metadata": {
        "id": "vO6RAwvMSAFV"
      }
    },
    {
      "cell_type": "markdown",
      "source": [
        "### Below are a few examples of evaluating arithmetic expressions in Python"
      ],
      "metadata": {
        "id": "hdFLvgnoV2nR"
      }
    },
    {
      "cell_type": "code",
      "source": [
        "# This a simple arithmetic expression to mutiply then add integers\n",
        "(3*4)+5"
      ],
      "metadata": {
        "colab": {
          "base_uri": "https://localhost:8080/"
        },
        "id": "KZcpVqvwWP1P",
        "outputId": "d19a1852-911c-4dba-af3e-e355f718dcc2"
      },
      "execution_count": null,
      "outputs": [
        {
          "output_type": "execute_result",
          "data": {
            "text/plain": [
              "17"
            ]
          },
          "metadata": {},
          "execution_count": 3
        }
      ]
    },
    {
      "cell_type": "code",
      "source": [
        "# This will convert 200 minutes to hours by diving by 60\n",
        "200/60"
      ],
      "metadata": {
        "colab": {
          "base_uri": "https://localhost:8080/"
        },
        "id": "-iH5-k8WXD0Q",
        "outputId": "b49b8ea5-8ce0-492a-b4d6-04677cbb2273"
      },
      "execution_count": null,
      "outputs": [
        {
          "output_type": "execute_result",
          "data": {
            "text/plain": [
              "3.3333333333333335"
            ]
          },
          "metadata": {},
          "execution_count": 4
        }
      ]
    }
  ],
  "metadata": {
    "kernelspec": {
      "display_name": "Python",
      "language": "python",
      "name": "conda-env-python-py"
    },
    "language_info": {
      "name": ""
    },
    "colab": {
      "provenance": []
    }
  },
  "nbformat": 4,
  "nbformat_minor": 0
}